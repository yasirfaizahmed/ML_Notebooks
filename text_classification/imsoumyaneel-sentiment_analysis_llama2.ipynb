{
 "cells": [
  {
   "cell_type": "code",
   "execution_count": 1,
   "id": "2b46cd0f-ae6d-4781-8dab-89df1f880ada",
   "metadata": {
    "execution": {
     "iopub.execute_input": "2024-03-31T16:38:33.012523Z",
     "iopub.status.busy": "2024-03-31T16:38:33.012195Z",
     "iopub.status.idle": "2024-03-31T16:38:41.339903Z",
     "shell.execute_reply": "2024-03-31T16:38:41.339283Z",
     "shell.execute_reply.started": "2024-03-31T16:38:33.012515Z"
    }
   },
   "outputs": [
    {
     "name": "stderr",
     "output_type": "stream",
     "text": [
      "/home/xd/Documents/DS_ML_AL/ML_Notebooks/.venv/lib/python3.12/site-packages/tqdm/auto.py:21: TqdmWarning: IProgress not found. Please update jupyter and ipywidgets. See https://ipywidgets.readthedocs.io/en/stable/user_install.html\n",
      "  from .autonotebook import tqdm as notebook_tqdm\n"
     ]
    },
    {
     "data": {
      "text/plain": [
       "DatasetDict({\n",
       "    train: Dataset({\n",
       "        features: ['sentence', 'label', 'text'],\n",
       "        num_rows: 598298\n",
       "    })\n",
       "})"
      ]
     },
     "execution_count": 1,
     "metadata": {},
     "output_type": "execute_result"
    }
   ],
   "source": [
    "from datasets import load_dataset\n",
    "\n",
    "# dataset = load_dataset(\"dair-ai/emotion\")\n",
    "dataset = load_dataset(\"imsoumyaneel/sentiment-analysis-llama2\")\n",
    "dataset"
   ]
  },
  {
   "cell_type": "code",
   "execution_count": 2,
   "id": "cbdbcb02-bcc5-4928-8eff-e238437f004b",
   "metadata": {
    "execution": {
     "iopub.execute_input": "2024-03-31T16:38:41.341147Z",
     "iopub.status.busy": "2024-03-31T16:38:41.340979Z",
     "iopub.status.idle": "2024-03-31T16:38:42.665731Z",
     "shell.execute_reply": "2024-03-31T16:38:42.665184Z",
     "shell.execute_reply.started": "2024-03-31T16:38:41.341132Z"
    }
   },
   "outputs": [
    {
     "name": "stdout",
     "output_type": "stream",
     "text": [
      "<class 'pandas.core.frame.DataFrame'>\n",
      "RangeIndex: 598298 entries, 0 to 598297\n",
      "Data columns (total 4 columns):\n",
      " #   Column     Non-Null Count   Dtype \n",
      "---  ------     --------------   ----- \n",
      " 0   sentence   598298 non-null  object\n",
      " 1   label      598298 non-null  object\n",
      " 2   text       598298 non-null  object\n",
      " 3   new_label  598298 non-null  object\n",
      "dtypes: object(4)\n",
      "memory usage: 18.3+ MB\n",
      "<class 'pandas.core.frame.DataFrame'>\n",
      "Index: 478638 entries, 352227 to 559736\n",
      "Data columns (total 4 columns):\n",
      " #   Column     Non-Null Count   Dtype \n",
      "---  ------     --------------   ----- \n",
      " 0   sentence   478638 non-null  object\n",
      " 1   label      478638 non-null  object\n",
      " 2   text       478638 non-null  object\n",
      " 3   new_label  478638 non-null  object\n",
      "dtypes: object(4)\n",
      "memory usage: 18.3+ MB\n",
      "<class 'pandas.core.frame.DataFrame'>\n",
      "Index: 119660 entries, 0 to 598297\n",
      "Data columns (total 4 columns):\n",
      " #   Column     Non-Null Count   Dtype \n",
      "---  ------     --------------   ----- \n",
      " 0   sentence   119660 non-null  object\n",
      " 1   label      119660 non-null  object\n",
      " 2   text       119660 non-null  object\n",
      " 3   new_label  119660 non-null  object\n",
      "dtypes: object(4)\n",
      "memory usage: 4.6+ MB\n"
     ]
    },
    {
     "data": {
      "application/vnd.microsoft.datawrangler.viewer.v0+json": {
       "columns": [
        {
         "name": "index",
         "rawType": "int64",
         "type": "integer"
        },
        {
         "name": "sentence",
         "rawType": "object",
         "type": "string"
        },
        {
         "name": "label",
         "rawType": "object",
         "type": "string"
        },
        {
         "name": "text",
         "rawType": "object",
         "type": "string"
        },
        {
         "name": "new_label",
         "rawType": "object",
         "type": "string"
        }
       ],
       "ref": "5e46ef20-af0d-42d9-9f9b-279e06b435c4",
       "rows": [
        [
         "0",
         "I'll throw out the garbage .",
         "neutral",
         "###Human:\nyou are a sentiment analist. guess the sentiment of the following line I'll throw out the garbage .\n\n### Assistant:\nneutral",
         "1"
        ],
        [
         "1",
         "So Dick , how about getting some coffee for tonight ?",
         "joy",
         "###Human:\nyou are a sentiment analist. guess the sentiment of the following line So Dick , how about getting some coffee for tonight ?\n\n### Assistant:\njoy",
         "0"
        ],
        [
         "2",
         "Come on , you can at least try a little , besides your cigarette .",
         "neutral",
         "###Human:\nyou are a sentiment analist. guess the sentiment of the following line Come on , you can at least try a little , besides your cigarette .\n\n### Assistant:\nneutral",
         "1"
        ],
        [
         "3",
         "What ’ s wrong with that ? Cigarette is the thing I go crazy for .",
         "anger",
         "###Human:\nyou are a sentiment analist. guess the sentiment of the following line What ’ s wrong with that ? Cigarette is the thing I go crazy for .\n\n### Assistant:\nanger",
         "3"
        ],
        [
         "4",
         "Not for me , Dick .",
         "neutral",
         "###Human:\nyou are a sentiment analist. guess the sentiment of the following line Not for me , Dick .\n\n### Assistant:\nneutral",
         "1"
        ]
       ],
       "shape": {
        "columns": 4,
        "rows": 5
       }
      },
      "text/html": [
       "<div>\n",
       "<style scoped>\n",
       "    .dataframe tbody tr th:only-of-type {\n",
       "        vertical-align: middle;\n",
       "    }\n",
       "\n",
       "    .dataframe tbody tr th {\n",
       "        vertical-align: top;\n",
       "    }\n",
       "\n",
       "    .dataframe thead th {\n",
       "        text-align: right;\n",
       "    }\n",
       "</style>\n",
       "<table border=\"1\" class=\"dataframe\">\n",
       "  <thead>\n",
       "    <tr style=\"text-align: right;\">\n",
       "      <th></th>\n",
       "      <th>sentence</th>\n",
       "      <th>label</th>\n",
       "      <th>text</th>\n",
       "      <th>new_label</th>\n",
       "    </tr>\n",
       "  </thead>\n",
       "  <tbody>\n",
       "    <tr>\n",
       "      <th>0</th>\n",
       "      <td>I'll throw out the garbage .</td>\n",
       "      <td>neutral</td>\n",
       "      <td>###Human:\\nyou are a sentiment analist. guess ...</td>\n",
       "      <td>1</td>\n",
       "    </tr>\n",
       "    <tr>\n",
       "      <th>1</th>\n",
       "      <td>So Dick , how about getting some coffee for to...</td>\n",
       "      <td>joy</td>\n",
       "      <td>###Human:\\nyou are a sentiment analist. guess ...</td>\n",
       "      <td>0</td>\n",
       "    </tr>\n",
       "    <tr>\n",
       "      <th>2</th>\n",
       "      <td>Come on , you can at least try a little , besi...</td>\n",
       "      <td>neutral</td>\n",
       "      <td>###Human:\\nyou are a sentiment analist. guess ...</td>\n",
       "      <td>1</td>\n",
       "    </tr>\n",
       "    <tr>\n",
       "      <th>3</th>\n",
       "      <td>What ’ s wrong with that ? Cigarette is the th...</td>\n",
       "      <td>anger</td>\n",
       "      <td>###Human:\\nyou are a sentiment analist. guess ...</td>\n",
       "      <td>3</td>\n",
       "    </tr>\n",
       "    <tr>\n",
       "      <th>4</th>\n",
       "      <td>Not for me , Dick .</td>\n",
       "      <td>neutral</td>\n",
       "      <td>###Human:\\nyou are a sentiment analist. guess ...</td>\n",
       "      <td>1</td>\n",
       "    </tr>\n",
       "  </tbody>\n",
       "</table>\n",
       "</div>"
      ],
      "text/plain": [
       "                                            sentence    label  \\\n",
       "0                       I'll throw out the garbage .  neutral   \n",
       "1  So Dick , how about getting some coffee for to...      joy   \n",
       "2  Come on , you can at least try a little , besi...  neutral   \n",
       "3  What ’ s wrong with that ? Cigarette is the th...    anger   \n",
       "4                                Not for me , Dick .  neutral   \n",
       "\n",
       "                                                text new_label  \n",
       "0  ###Human:\\nyou are a sentiment analist. guess ...         1  \n",
       "1  ###Human:\\nyou are a sentiment analist. guess ...         0  \n",
       "2  ###Human:\\nyou are a sentiment analist. guess ...         1  \n",
       "3  ###Human:\\nyou are a sentiment analist. guess ...         3  \n",
       "4  ###Human:\\nyou are a sentiment analist. guess ...         1  "
      ]
     },
     "execution_count": 2,
     "metadata": {},
     "output_type": "execute_result"
    }
   ],
   "source": [
    "import pandas as pd\n",
    "\n",
    "complete_dataset = dataset['train'].to_pandas()\n",
    "complete_dataset['new_label'] = complete_dataset['label'].map({'joy': '0', 'neutral': '1', 'sadness': '2', 'anger': '3', 'fear': '4', 'love': '5', 'surprise': '6'}).values\n",
    "\n",
    "train_dataset = complete_dataset.sample(frac=0.8,random_state=200)\n",
    "test_dataset = complete_dataset.drop(train_dataset.index)\n",
    "\n",
    "complete_dataset.info()\n",
    "train_dataset.info()\n",
    "test_dataset.info()\n",
    "\n",
    "complete_dataset.head()"
   ]
  },
  {
   "cell_type": "code",
   "execution_count": 3,
   "id": "0cfc926c-70df-4089-9b2e-f201faa223df",
   "metadata": {
    "execution": {
     "iopub.execute_input": "2024-03-31T16:38:42.666938Z",
     "iopub.status.busy": "2024-03-31T16:38:42.666761Z",
     "iopub.status.idle": "2024-03-31T16:38:46.106948Z",
     "shell.execute_reply": "2024-03-31T16:38:46.106267Z",
     "shell.execute_reply.started": "2024-03-31T16:38:42.666926Z"
    }
   },
   "outputs": [
    {
     "name": "stderr",
     "output_type": "stream",
     "text": [
      "2025-05-24 01:26:36.647445: I tensorflow/core/util/port.cc:153] oneDNN custom operations are on. You may see slightly different numerical results due to floating-point round-off errors from different computation orders. To turn them off, set the environment variable `TF_ENABLE_ONEDNN_OPTS=0`.\n",
      "2025-05-24 01:26:36.656031: E external/local_xla/xla/stream_executor/cuda/cuda_fft.cc:467] Unable to register cuFFT factory: Attempting to register factory for plugin cuFFT when one has already been registered\n",
      "WARNING: All log messages before absl::InitializeLog() is called are written to STDERR\n",
      "E0000 00:00:1748030196.669125   46242 cuda_dnn.cc:8579] Unable to register cuDNN factory: Attempting to register factory for plugin cuDNN when one has already been registered\n",
      "E0000 00:00:1748030196.672735   46242 cuda_blas.cc:1407] Unable to register cuBLAS factory: Attempting to register factory for plugin cuBLAS when one has already been registered\n",
      "W0000 00:00:1748030196.682406   46242 computation_placer.cc:177] computation placer already registered. Please check linkage and avoid linking the same target more than once.\n",
      "W0000 00:00:1748030196.682426   46242 computation_placer.cc:177] computation placer already registered. Please check linkage and avoid linking the same target more than once.\n",
      "W0000 00:00:1748030196.682427   46242 computation_placer.cc:177] computation placer already registered. Please check linkage and avoid linking the same target more than once.\n",
      "W0000 00:00:1748030196.682428   46242 computation_placer.cc:177] computation placer already registered. Please check linkage and avoid linking the same target more than once.\n",
      "2025-05-24 01:26:36.685672: I tensorflow/core/platform/cpu_feature_guard.cc:210] This TensorFlow binary is optimized to use available CPU instructions in performance-critical operations.\n",
      "To enable the following instructions: AVX2 AVX_VNNI FMA, in other operations, rebuild TensorFlow with the appropriate compiler flags.\n"
     ]
    }
   ],
   "source": [
    "# imports for model creation\n",
    "import tensorflow as tf\n",
    "from keras import layers\n",
    "from keras import losses\n",
    "import keras\n",
    "from tensorflow.keras.preprocessing.text import Tokenizer\n",
    "from tensorflow.keras.preprocessing.sequence import pad_sequences"
   ]
  },
  {
   "cell_type": "code",
   "execution_count": 4,
   "id": "eb4bab6b-ae99-4fae-bf0b-ca91be630db3",
   "metadata": {
    "execution": {
     "iopub.execute_input": "2024-03-31T16:38:46.108849Z",
     "iopub.status.busy": "2024-03-31T16:38:46.108483Z",
     "iopub.status.idle": "2024-03-31T16:39:01.033885Z",
     "shell.execute_reply": "2024-03-31T16:39:01.033311Z",
     "shell.execute_reply.started": "2024-03-31T16:38:46.108831Z"
    }
   },
   "outputs": [],
   "source": [
    "tokenizer = Tokenizer()\n",
    "tokenizer.fit_on_texts(complete_dataset['sentence'])\n",
    "\n",
    "vocab_size = len(tokenizer.word_index) + 1\n",
    "max_length = 200    # max words in a sentence\n",
    "embedding_dim = 50    # TODO: need to adjust accordinglys\n",
    "\n",
    "X_train = tokenizer.texts_to_sequences(train_dataset['sentence'])\n",
    "X_train = pad_sequences(X_train, maxlen=max_length, padding='post')\n",
    "\n",
    "X_test = tokenizer.texts_to_sequences(test_dataset['sentence'])\n",
    "X_test = pad_sequences(X_test, maxlen=max_length, padding='post')\n",
    "\n",
    "y_train = train_dataset['new_label']\n",
    "y_test = test_dataset['new_label']\n",
    "\n",
    "from keras.utils import to_categorical\n",
    "\n",
    "num_classes = 7  # Assuming you have 3 classes\n",
    "y_train_encoded = to_categorical(y_train, num_classes=num_classes)\n",
    "y_test_encoded = to_categorical(y_test, num_classes=num_classes)"
   ]
  },
  {
   "cell_type": "code",
   "execution_count": 5,
   "id": "d7202d74-95c7-4bb2-aea5-54481dfcafd6",
   "metadata": {
    "execution": {
     "iopub.execute_input": "2024-03-31T16:39:01.035022Z",
     "iopub.status.busy": "2024-03-31T16:39:01.034846Z",
     "iopub.status.idle": "2024-03-31T16:39:01.038541Z",
     "shell.execute_reply": "2024-03-31T16:39:01.038020Z",
     "shell.execute_reply.started": "2024-03-31T16:39:01.035006Z"
    }
   },
   "outputs": [
    {
     "name": "stdout",
     "output_type": "stream",
     "text": [
      "(478638, 200)\n",
      "(119660, 200)\n",
      "(478638,)\n",
      "(119660,)\n"
     ]
    }
   ],
   "source": [
    "labels = complete_dataset['label']\n",
    "\n",
    "print(X_train.shape)\n",
    "print(X_test.shape)\n",
    "print(y_train.shape)\n",
    "print(y_test.shape)"
   ]
  },
  {
   "cell_type": "code",
   "execution_count": 6,
   "id": "738e3137-7ea4-4e71-9395-773e537083cf",
   "metadata": {
    "execution": {
     "iopub.execute_input": "2024-03-31T16:39:01.039687Z",
     "iopub.status.busy": "2024-03-31T16:39:01.039206Z",
     "iopub.status.idle": "2024-03-31T16:39:02.148732Z",
     "shell.execute_reply": "2024-03-31T16:39:02.148025Z",
     "shell.execute_reply.started": "2024-03-31T16:39:01.039671Z"
    }
   },
   "outputs": [
    {
     "name": "stderr",
     "output_type": "stream",
     "text": [
      "/home/xd/Documents/DS_ML_AL/ML_Notebooks/.venv/lib/python3.12/site-packages/keras/src/layers/core/embedding.py:100: UserWarning: Do not pass an `input_shape`/`input_dim` argument to a layer. When using Sequential models, prefer using an `Input(shape)` object as the first layer in the model instead.\n",
      "  super().__init__(**kwargs)\n",
      "I0000 00:00:1748030208.588223   46242 gpu_device.cc:2019] Created device /job:localhost/replica:0/task:0/device:GPU:0 with 1135 MB memory:  -> device: 0, name: NVIDIA GeForce RTX 3060, pci bus id: 0000:01:00.0, compute capability: 8.6\n"
     ]
    }
   ],
   "source": [
    "# Build the model\n",
    "model = keras.Sequential([\n",
    "  keras.layers.Embedding(input_dim=vocab_size, output_dim=embedding_dim, input_shape=(max_length,)),\n",
    "  keras.layers.GlobalAveragePooling1D(),\n",
    "  keras.layers.Dense(32, activation='relu'),\n",
    "  keras.layers.Dense(7, activation='sigmoid')\n",
    "])"
   ]
  },
  {
   "cell_type": "code",
   "execution_count": 7,
   "id": "cd072f39-99e6-44f0-8c7f-106a0055c43b",
   "metadata": {
    "execution": {
     "iopub.execute_input": "2024-03-31T16:39:02.150108Z",
     "iopub.status.busy": "2024-03-31T16:39:02.149634Z",
     "iopub.status.idle": "2024-03-31T16:39:02.159085Z",
     "shell.execute_reply": "2024-03-31T16:39:02.158478Z",
     "shell.execute_reply.started": "2024-03-31T16:39:02.150090Z"
    }
   },
   "outputs": [],
   "source": [
    "# Compile the model\n",
    "model.compile(loss='categorical_crossentropy', optimizer='adam', metrics=['accuracy'])"
   ]
  },
  {
   "cell_type": "code",
   "execution_count": 8,
   "id": "72ad6548-5d1c-4221-88c7-014dcbaea0ee",
   "metadata": {
    "execution": {
     "iopub.execute_input": "2024-03-31T16:39:02.160402Z",
     "iopub.status.busy": "2024-03-31T16:39:02.159930Z",
     "iopub.status.idle": "2024-03-31T16:39:02.162845Z",
     "shell.execute_reply": "2024-03-31T16:39:02.162259Z",
     "shell.execute_reply.started": "2024-03-31T16:39:02.160382Z"
    }
   },
   "outputs": [],
   "source": [
    "# split the dataset into train and test\n",
    "# from sklearn.model_selection import train_test_split\n",
    "\n",
    "# X_train, X_test, y_train, y_test = train_test_split(, labels, test_size=0.3, random_state=42, shuffle=True)\n",
    "# X_train"
   ]
  },
  {
   "cell_type": "code",
   "execution_count": 9,
   "id": "9267da90-7a84-49d1-94d0-04a2cd3062e0",
   "metadata": {
    "execution": {
     "iopub.execute_input": "2024-03-31T16:39:34.346301Z",
     "iopub.status.busy": "2024-03-31T16:39:34.345554Z",
     "iopub.status.idle": "2024-03-31T16:48:40.470989Z",
     "shell.execute_reply": "2024-03-31T16:48:40.470195Z",
     "shell.execute_reply.started": "2024-03-31T16:39:34.346268Z"
    }
   },
   "outputs": [
    {
     "name": "stdout",
     "output_type": "stream",
     "text": [
      "Epoch 1/10\n"
     ]
    },
    {
     "name": "stderr",
     "output_type": "stream",
     "text": [
      "WARNING: All log messages before absl::InitializeLog() is called are written to STDERR\n",
      "I0000 00:00:1748030213.379971   46369 service.cc:152] XLA service 0x75f89c0193f0 initialized for platform CUDA (this does not guarantee that XLA will be used). Devices:\n",
      "I0000 00:00:1748030213.379984   46369 service.cc:160]   StreamExecutor device (0): NVIDIA GeForce RTX 3060, Compute Capability 8.6\n",
      "2025-05-24 01:26:53.394941: I tensorflow/compiler/mlir/tensorflow/utils/dump_mlir_util.cc:269] disabling MLIR crash reproducer, set env var `MLIR_CRASH_REPRODUCER_DIRECTORY` to enable.\n",
      "I0000 00:00:1748030213.462214   46369 cuda_dnn.cc:529] Loaded cuDNN version 90300\n"
     ]
    },
    {
     "name": "stdout",
     "output_type": "stream",
     "text": [
      "\u001b[1m  110/14958\u001b[0m \u001b[37m━━━━━━━━━━━━━━━━━━━━\u001b[0m \u001b[1m20s\u001b[0m 1ms/step - accuracy: 0.2392 - loss: 1.8029 "
     ]
    },
    {
     "name": "stderr",
     "output_type": "stream",
     "text": [
      "I0000 00:00:1748030214.909870   46369 device_compiler.h:188] Compiled cluster using XLA!  This line is logged at most once for the lifetime of the process.\n"
     ]
    },
    {
     "name": "stdout",
     "output_type": "stream",
     "text": [
      "\u001b[1m14958/14958\u001b[0m \u001b[32m━━━━━━━━━━━━━━━━━━━━\u001b[0m\u001b[37m\u001b[0m \u001b[1m27s\u001b[0m 2ms/step - accuracy: 0.5072 - loss: 1.3294 - val_accuracy: 0.8212 - val_loss: 0.5658\n",
      "Epoch 2/10\n",
      "\u001b[1m14958/14958\u001b[0m \u001b[32m━━━━━━━━━━━━━━━━━━━━\u001b[0m\u001b[37m\u001b[0m \u001b[1m23s\u001b[0m 2ms/step - accuracy: 0.8458 - loss: 0.4859 - val_accuracy: 0.8601 - val_loss: 0.4155\n",
      "Epoch 3/10\n",
      "\u001b[1m14958/14958\u001b[0m \u001b[32m━━━━━━━━━━━━━━━━━━━━\u001b[0m\u001b[37m\u001b[0m \u001b[1m23s\u001b[0m 2ms/step - accuracy: 0.8613 - loss: 0.4204 - val_accuracy: 0.8345 - val_loss: 0.5050\n",
      "Epoch 4/10\n",
      "\u001b[1m14958/14958\u001b[0m \u001b[32m━━━━━━━━━━━━━━━━━━━━\u001b[0m\u001b[37m\u001b[0m \u001b[1m23s\u001b[0m 2ms/step - accuracy: 0.8654 - loss: 0.3890 - val_accuracy: 0.8461 - val_loss: 0.4425\n",
      "Epoch 5/10\n",
      "\u001b[1m14958/14958\u001b[0m \u001b[32m━━━━━━━━━━━━━━━━━━━━\u001b[0m\u001b[37m\u001b[0m \u001b[1m23s\u001b[0m 2ms/step - accuracy: 0.8709 - loss: 0.3630 - val_accuracy: 0.8660 - val_loss: 0.3744\n",
      "Epoch 6/10\n",
      "\u001b[1m14958/14958\u001b[0m \u001b[32m━━━━━━━━━━━━━━━━━━━━\u001b[0m\u001b[37m\u001b[0m \u001b[1m23s\u001b[0m 2ms/step - accuracy: 0.8729 - loss: 0.3469 - val_accuracy: 0.8663 - val_loss: 0.3807\n",
      "Epoch 7/10\n",
      "\u001b[1m14958/14958\u001b[0m \u001b[32m━━━━━━━━━━━━━━━━━━━━\u001b[0m\u001b[37m\u001b[0m \u001b[1m23s\u001b[0m 2ms/step - accuracy: 0.8743 - loss: 0.3368 - val_accuracy: 0.8658 - val_loss: 0.3438\n",
      "Epoch 8/10\n",
      "\u001b[1m14958/14958\u001b[0m \u001b[32m━━━━━━━━━━━━━━━━━━━━\u001b[0m\u001b[37m\u001b[0m \u001b[1m23s\u001b[0m 2ms/step - accuracy: 0.8769 - loss: 0.3267 - val_accuracy: 0.8465 - val_loss: 0.4555\n",
      "Epoch 9/10\n",
      "\u001b[1m14958/14958\u001b[0m \u001b[32m━━━━━━━━━━━━━━━━━━━━\u001b[0m\u001b[37m\u001b[0m \u001b[1m23s\u001b[0m 2ms/step - accuracy: 0.8785 - loss: 0.3186 - val_accuracy: 0.8660 - val_loss: 0.3630\n",
      "Epoch 10/10\n",
      "\u001b[1m14958/14958\u001b[0m \u001b[32m━━━━━━━━━━━━━━━━━━━━\u001b[0m\u001b[37m\u001b[0m \u001b[1m23s\u001b[0m 2ms/step - accuracy: 0.8807 - loss: 0.3107 - val_accuracy: 0.8610 - val_loss: 0.3915\n"
     ]
    },
    {
     "data": {
      "text/plain": [
       "<keras.src.callbacks.history.History at 0x75fa406efbc0>"
      ]
     },
     "execution_count": 9,
     "metadata": {},
     "output_type": "execute_result"
    }
   ],
   "source": [
    "# train the model\n",
    "model.fit(X_train, y_train_encoded, epochs=10, batch_size=32, validation_data=(X_test, y_test_encoded))"
   ]
  },
  {
   "cell_type": "code",
   "execution_count": 10,
   "id": "24e17bec-2fbe-400f-9273-a5abe823f193",
   "metadata": {
    "execution": {
     "iopub.execute_input": "2024-03-31T16:57:03.280928Z",
     "iopub.status.busy": "2024-03-31T16:57:03.280193Z",
     "iopub.status.idle": "2024-03-31T16:57:09.194519Z",
     "shell.execute_reply": "2024-03-31T16:57:09.193928Z",
     "shell.execute_reply.started": "2024-03-31T16:57:03.280897Z"
    }
   },
   "outputs": [
    {
     "name": "stdout",
     "output_type": "stream",
     "text": [
      "\u001b[1m3740/3740\u001b[0m \u001b[32m━━━━━━━━━━━━━━━━━━━━\u001b[0m\u001b[37m\u001b[0m \u001b[1m2s\u001b[0m 638us/step - accuracy: 0.8599 - loss: 0.4342\n"
     ]
    },
    {
     "data": {
      "text/plain": [
       "0.8609894514083862"
      ]
     },
     "execution_count": 10,
     "metadata": {},
     "output_type": "execute_result"
    }
   ],
   "source": [
    "# Evaluate the model\n",
    "loss, accuracy = model.evaluate(X_test, y_test_encoded)\n",
    "accuracy"
   ]
  },
  {
   "cell_type": "code",
   "execution_count": 11,
   "id": "15fbbb09-ffdf-41d3-ba11-8877aa2c078e",
   "metadata": {
    "execution": {
     "iopub.execute_input": "2024-03-31T17:01:34.387114Z",
     "iopub.status.busy": "2024-03-31T17:01:34.386216Z",
     "iopub.status.idle": "2024-03-31T17:01:34.528910Z",
     "shell.execute_reply": "2024-03-31T17:01:34.528157Z",
     "shell.execute_reply.started": "2024-03-31T17:01:34.387078Z"
    }
   },
   "outputs": [],
   "source": [
    "# save the model\n",
    "import os\n",
    "try:\n",
    "    model.save(\"../models/sentimental-analysis-llama2.keras\")\n",
    "except FileNotFoundError:\n",
    "    os.mkdir(\"../models\")\n",
    "    model.save(\"../models/sentimental-analysis-llama2.keras\")"
   ]
  },
  {
   "cell_type": "code",
   "execution_count": 22,
   "id": "792f0680-5a32-4c46-b5b4-eb6795b51aeb",
   "metadata": {
    "execution": {
     "iopub.execute_input": "2024-03-31T17:04:41.901658Z",
     "iopub.status.busy": "2024-03-31T17:04:41.901124Z",
     "iopub.status.idle": "2024-03-31T17:04:41.948670Z",
     "shell.execute_reply": "2024-03-31T17:04:41.948177Z",
     "shell.execute_reply.started": "2024-03-31T17:04:41.901637Z"
    }
   },
   "outputs": [
    {
     "name": "stdout",
     "output_type": "stream",
     "text": [
      "1/1 [==============================] - 0s 17ms/step\n"
     ]
    },
    {
     "data": {
      "text/plain": [
       "array([[0.809063  , 0.78246254, 0.02547726, 0.03657908, 0.00648503,\n",
       "        0.02069169, 0.07264358]], dtype=float32)"
      ]
     },
     "execution_count": 22,
     "metadata": {},
     "output_type": "execute_result"
    }
   ],
   "source": [
    "def preprocess_text(text):\n",
    "    # Tokenize the text\n",
    "    tokenized_text = tokenizer.texts_to_sequences([text])\n",
    "    # Pad sequences to the same length as training data\n",
    "    padded_text = pad_sequences(tokenized_text, maxlen=max_length, padding='post')\n",
    "    return padded_text\n",
    "\n",
    "# Preprocess the custom input text\n",
    "preprocessed_text = preprocess_text(\"this is good\")\n",
    "\n",
    "# Make predictions\n",
    "predictions = model.predict(preprocessed_text)\n",
    "\n",
    "predictions"
   ]
  }
 ],
 "metadata": {
  "kernelspec": {
   "display_name": ".venv",
   "language": "python",
   "name": "python3"
  },
  "language_info": {
   "codemirror_mode": {
    "name": "ipython",
    "version": 3
   },
   "file_extension": ".py",
   "mimetype": "text/x-python",
   "name": "python",
   "nbconvert_exporter": "python",
   "pygments_lexer": "ipython3",
   "version": "3.12.3"
  }
 },
 "nbformat": 4,
 "nbformat_minor": 5
}
