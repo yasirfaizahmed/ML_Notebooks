{
 "cells": [
  {
   "cell_type": "code",
   "execution_count": 14,
   "id": "ed875cfe",
   "metadata": {},
   "outputs": [
    {
     "data": {
      "text/plain": [
       "True"
      ]
     },
     "execution_count": 14,
     "metadata": {},
     "output_type": "execute_result"
    }
   ],
   "source": [
    "import torch\n",
    "import numpy as np\n",
    "\n",
    "torch.cuda.is_available()"
   ]
  },
  {
   "cell_type": "markdown",
   "id": "e9c468ee",
   "metadata": {},
   "source": [
    "### Tensors\n",
    "\n",
    "Tensors are similar to NumPy’s ndarrays, except that tensors can run on GPUs or other hardware accelerators. In fact, tensors and NumPy arrays can often share the same underlying memory, eliminating the need to copy data (see Bridge with NumPy). Tensors are also optimized for automatic differentiation "
   ]
  },
  {
   "cell_type": "code",
   "execution_count": 15,
   "id": "7d6800e7",
   "metadata": {},
   "outputs": [
    {
     "data": {
      "text/plain": [
       "tensor([[1, 2],\n",
       "        [3, 4]])"
      ]
     },
     "execution_count": 15,
     "metadata": {},
     "output_type": "execute_result"
    }
   ],
   "source": [
    "data = [[1, 2],[3, 4]]\n",
    "x_data = torch.tensor(data)\n",
    "x_data\n"
   ]
  },
  {
   "cell_type": "code",
   "execution_count": 16,
   "id": "741ecd97",
   "metadata": {},
   "outputs": [],
   "source": [
    "np_array = np.array(data)\n",
    "x_np = torch.from_numpy(np_array)"
   ]
  },
  {
   "cell_type": "code",
   "execution_count": 17,
   "id": "7f690d52",
   "metadata": {},
   "outputs": [
    {
     "name": "stdout",
     "output_type": "stream",
     "text": [
      "Ones Tensor: \n",
      " tensor([[1, 1],\n",
      "        [1, 1]]) \n",
      "\n",
      "Random Tensor: \n",
      " tensor([[0.9106, 0.0301],\n",
      "        [0.8134, 0.4649]]) \n",
      "\n"
     ]
    }
   ],
   "source": [
    "x_ones = torch.ones_like(x_data) # retains the properties of x_data\n",
    "print(f\"Ones Tensor: \\n {x_ones} \\n\")\n",
    "x_rand = torch.rand_like(x_data, dtype=torch.float) # overrides the datatype of x_data\n",
    "print(f\"Random Tensor: \\n {x_rand} \\n\")"
   ]
  },
  {
   "cell_type": "code",
   "execution_count": 18,
   "id": "7058d4a2",
   "metadata": {},
   "outputs": [
    {
     "name": "stdout",
     "output_type": "stream",
     "text": [
      "Shape of tensor: torch.Size([3, 4])\n",
      "Datatype of tensor: torch.float32\n",
      "Device tensor is stored on: cpu\n"
     ]
    }
   ],
   "source": [
    "tensor = torch.rand(3,4)\n",
    "\n",
    "print(f\"Shape of tensor: {tensor.shape}\")\n",
    "print(f\"Datatype of tensor: {tensor.dtype}\")\n",
    "print(f\"Device tensor is stored on: {tensor.device}\")"
   ]
  },
  {
   "cell_type": "markdown",
   "id": "834aa341",
   "metadata": {},
   "source": [
    "### Operations on Tensors\n",
    "\n",
    "Over 1200 tensor operations, including arithmetic, linear algebra, matrix manipulation (transposing, indexing, slicing), sampling and more are comprehensively described here.\n",
    "\n",
    "Each of these operations can be run on the CPU and Accelerator such as CUDA, MPS, MTIA, or XPU. If you’re using Colab, allocate an accelerator by going to Runtime > Change runtime type > GPU.\n",
    "\n",
    "By default, tensors are created on the CPU. We need to explicitly move tensors to the accelerator using .to method (after checking for accelerator availability). Keep in mind that copying large tensors across devices can be expensive in terms of time and memory!"
   ]
  },
  {
   "cell_type": "code",
   "execution_count": 19,
   "id": "4ec29cc8",
   "metadata": {},
   "outputs": [],
   "source": [
    "# We move our tensor to the current accelerator if available\n",
    "if torch.accelerator.is_available():\n",
    "    tensor = tensor.to(torch.accelerator.current_accelerator())"
   ]
  },
  {
   "cell_type": "markdown",
   "id": "dc7f78ad",
   "metadata": {},
   "source": [
    "### Arithmetic operations\n",
    "\n",
    "Let $A$ be a matrix of size $m \\times n$.\n",
    "\n",
    "Then:\n",
    "\n",
    "-   $A^T$ is size $n \\times m$\n",
    "    \n",
    "-   So, two possible multiplications:\n",
    "    \n",
    "    1.  $A^T A$ — **results in a square matrix of size $n \\times n$**\n",
    "        \n",
    "    2.  $A A^T$ — **results in a square matrix of size $m \\times m$**\n",
    "        \n",
    "\n",
    "---\n",
    "\n",
    "### 🧠 What does it *mean*?\n",
    "\n",
    "#### 🔷 1. $A^T A$: Inner product / Gram matrix\n",
    "\n",
    "-   Each entry is:\n",
    "    \n",
    "    $$\n",
    "    (A^T A)_{ij} = \\langle \\text{col}_i, \\text{col}_j \\rangle\n",
    "    $$\n",
    "    \n",
    "-   It represents **dot products between columns** of $A$.\n",
    "    \n",
    "-   The result is **symmetric** and **positive semi-definite**.\n",
    "    \n",
    "-   Common in **least squares**, **PCA**, **SVD**, and **machine learning** kernels.\n",
    "    \n",
    "\n",
    "#### 🔷 2. $A A^T$: Outer product form\n",
    "\n",
    "-   Each entry is:\n",
    "    \n",
    "    $$\n",
    "    (A A^T)_{ij} = \\langle \\text{row}_i, \\text{row}_j \\rangle\n",
    "    $$\n",
    "    \n",
    "-   Represents **dot products between rows** of $A$.\n",
    "    \n",
    "-   Also **symmetric** and **positive semi-definite**.\n",
    "    \n",
    "-   Shows up in **covariance matrices**, **projections**, etc.\n",
    "    \n",
    "\n",
    "---\n",
    "\n",
    "### 🧪 Example:\n",
    "\n",
    "Let:\n",
    "\n",
    "$$\n",
    "A = \\begin{bmatrix} 1 & 2 \\\\ 3 & 4 \\\\ \\end{bmatrix}\n",
    "$$\n",
    "\n",
    "Then:\n",
    "\n",
    "**Transpose:**\n",
    "\n",
    "$$\n",
    "A^T = \\begin{bmatrix} 1 & 3 \\\\ 2 & 4 \\\\ \\end{bmatrix}\n",
    "$$\n",
    "\n",
    "**Multiply:**\n",
    "\n",
    "$$\n",
    "A^T A = \\begin{bmatrix} 1 & 3 \\\\ 2 & 4 \\\\ \\end{bmatrix} \\begin{bmatrix} 1 & 2 \\\\ 3 & 4 \\\\ \\end{bmatrix} = \\begin{bmatrix} 10 & 14 \\\\ 14 & 20 \\\\ \\end{bmatrix}\n",
    "$$\n",
    "\n",
    "**Notice**:\n",
    "\n",
    "-   $A^T A$ is square, symmetric.\n",
    "    \n",
    "-   $A A^T$ would be $2 \\times 2$ as well, and also symmetric.\n",
    "    \n",
    "\n",
    "---\n",
    "\n",
    "### 🧭 Geometrically:\n",
    "\n",
    "-   $A^T A$ gives you a **Gram matrix** that captures **angles** and **lengths** between the column vectors — essential in measuring **linear dependence**.\n",
    "    \n",
    "-   If columns are orthonormal ⇒ $A^T A = I$\n",
    "    \n",
    "\n",
    "---\n",
    "\n",
    "### 🚀 Applications:\n",
    "\n",
    "-   **Machine Learning**: $X^T X$ in linear regression.\n",
    "    \n",
    "-   **PCA**: Eigenvalues of $A^T A$ give variance directions.\n",
    "    \n",
    "-   **Signal Processing**: Autocorrelation.\n",
    "    \n",
    "-   **Optimization**: Hessians and quadratic forms.\n",
    "    \n",
    "\n",
    "---\n",
    "\n",
    "So, multiplying a matrix with its transpose is like asking:\n",
    "\n",
    "> \"How do the rows or columns of this matrix relate to each other in space?\"\n",
    "\n",
    "It exposes symmetry, structure, and often, the soul of the data."
   ]
  },
  {
   "cell_type": "code",
   "execution_count": 20,
   "id": "20e58d24",
   "metadata": {},
   "outputs": [
    {
     "data": {
      "text/plain": [
       "tensor([[0.1149, 0.8537, 0.6894, 0.9071],\n",
       "        [0.0180, 0.7565, 0.0609, 0.2186],\n",
       "        [0.7478, 0.0685, 0.8693, 0.6612]], device='cuda:0')"
      ]
     },
     "execution_count": 20,
     "metadata": {},
     "output_type": "execute_result"
    }
   ],
   "source": [
    "# This computes the matrix multiplication between two tensors. y1, y2, y3 will have the same value\n",
    "# ``tensor.T`` returns the transpose of a tensor\n",
    "y1 = tensor @ tensor.T\n",
    "y2 = tensor.matmul(tensor.T)\n",
    "\n",
    "y3 = torch.rand_like(y1)\n",
    "torch.matmul(tensor, tensor.T, out=y3)\n",
    "\n",
    "\n",
    "# This computes the element-wise product. z1, z2, z3 will have the same value\n",
    "z1 = tensor * tensor\n",
    "z2 = tensor.mul(tensor)\n",
    "\n",
    "z3 = torch.rand_like(tensor)\n",
    "torch.mul(tensor, tensor, out=z3)"
   ]
  },
  {
   "cell_type": "markdown",
   "id": "96f4ce6a",
   "metadata": {},
   "source": [
    "### Bridge with NumPy\n",
    "\n",
    "Tensors on the CPU and NumPy arrays can share their underlying memory locations, and changing one will change the other."
   ]
  },
  {
   "cell_type": "code",
   "execution_count": 21,
   "id": "4ba2c4b3",
   "metadata": {},
   "outputs": [
    {
     "name": "stdout",
     "output_type": "stream",
     "text": [
      "t: tensor([1., 1., 1., 1., 1.])\n",
      "n: [1. 1. 1. 1. 1.]\n"
     ]
    }
   ],
   "source": [
    "t = torch.ones(5)\n",
    "print(f\"t: {t}\")\n",
    "n = t.numpy()\n",
    "print(f\"n: {n}\")\n"
   ]
  },
  {
   "cell_type": "code",
   "execution_count": 22,
   "id": "bae29e5f",
   "metadata": {},
   "outputs": [
    {
     "name": "stdout",
     "output_type": "stream",
     "text": [
      "t: tensor([2., 2., 2., 2., 2.])\n",
      "n: [2. 2. 2. 2. 2.]\n"
     ]
    }
   ],
   "source": [
    "t.add_(1)\n",
    "print(f\"t: {t}\")\n",
    "print(f\"n: {n}\")"
   ]
  },
  {
   "cell_type": "markdown",
   "id": "16306d66",
   "metadata": {},
   "source": [
    "### Build the Neural Network\n",
    "\n",
    "Neural networks comprise of layers/modules that perform operations on data. The torch.nn namespace provides all the building blocks you need to build your own neural network. Every module in PyTorch subclasses the nn.Module. A neural network is a module itself that consists of other modules (layers). This nested structure allows for building and managing complex architectures easily."
   ]
  },
  {
   "cell_type": "code",
   "execution_count": 23,
   "id": "8b85a5f3",
   "metadata": {},
   "outputs": [
    {
     "name": "stdout",
     "output_type": "stream",
     "text": [
      "Using cuda device\n"
     ]
    }
   ],
   "source": [
    "device = torch.accelerator.current_accelerator().type if torch.accelerator.is_available() else \"cpu\"\n",
    "print(f\"Using {device} device\")"
   ]
  },
  {
   "cell_type": "code",
   "execution_count": 24,
   "id": "437d2ef7",
   "metadata": {},
   "outputs": [
    {
     "data": {
      "text/plain": [
       "device(type='cuda')"
      ]
     },
     "execution_count": 24,
     "metadata": {},
     "output_type": "execute_result"
    }
   ],
   "source": [
    "device = torch.device(\"cuda\" if torch.cuda.is_available() else \"cpu\")\n",
    "device"
   ]
  },
  {
   "cell_type": "markdown",
   "id": "7d775a8c",
   "metadata": {},
   "source": [
    "### Define the Class\n",
    "\n",
    "We define our neural network by subclassing nn.Module, and initialize the neural network layers in __init__. Every nn.Module subclass implements the operations on input data in the forward method."
   ]
  },
  {
   "cell_type": "code",
   "execution_count": 25,
   "id": "d34963f1",
   "metadata": {},
   "outputs": [
    {
     "name": "stdout",
     "output_type": "stream",
     "text": [
      "NeuralNetwork(\n",
      "  (flatten): Flatten(start_dim=1, end_dim=-1)\n",
      "  (linear_relu_stack): Sequential(\n",
      "    (0): Linear(in_features=784, out_features=512, bias=True)\n",
      "    (1): ReLU()\n",
      "    (2): Linear(in_features=512, out_features=512, bias=True)\n",
      "    (3): ReLU()\n",
      "    (4): Linear(in_features=512, out_features=10, bias=True)\n",
      "  )\n",
      ")\n"
     ]
    }
   ],
   "source": [
    "from torch import nn\n",
    "\n",
    "\n",
    "class NeuralNetwork(nn.Module):\n",
    "  def __init__(self):\n",
    "    super().__init__()\n",
    "    self.flatten = nn.Flatten()\n",
    "    self.linear_relu_stack = nn.Sequential(\n",
    "      nn.Linear(28*28, 512),\n",
    "      nn.ReLU(),\n",
    "      nn.Linear(512, 512),\n",
    "      nn.ReLU(),\n",
    "      nn.Linear(512, 10)\n",
    "\t\t)\n",
    "\n",
    "  def forward(self, x):\n",
    "    x = self.flatten(x)\n",
    "    logits = self.linear_relu_stack(x)\n",
    "    return logits\n",
    "\n",
    "import os\n",
    "os.environ[\"CUDA_LAUNCH_BLOCKING\"] = \"1\"\n",
    "model = NeuralNetwork().to(device)\n",
    "print(model)\n"
   ]
  },
  {
   "cell_type": "code",
   "execution_count": 26,
   "id": "92a08ac0",
   "metadata": {},
   "outputs": [
    {
     "name": "stdout",
     "output_type": "stream",
     "text": [
      "Predicted class: tensor([1], device='cuda:0')\n"
     ]
    }
   ],
   "source": [
    "import os\n",
    "import torch\n",
    "from torch import nn\n",
    "from torch.utils.data import DataLoader\n",
    "from torchvision import datasets, transforms\n",
    "\n",
    "X = torch.rand(1, 28, 28, device=device)\n",
    "logits = model(X)\n",
    "pred_probab = nn.Softmax(dim=1)(logits)\n",
    "y_pred = pred_probab.argmax(1)\n",
    "print(f\"Predicted class: {y_pred}\")"
   ]
  },
  {
   "cell_type": "markdown",
   "id": "d427bc39",
   "metadata": {},
   "source": [
    "### Model Layers\n",
    "\n",
    "Let’s break down the layers in the FashionMNIST model. To illustrate it, we will take a sample minibatch of 3 images of size 28x28 and see what happens to it as we pass it through the network."
   ]
  },
  {
   "cell_type": "code",
   "execution_count": 27,
   "id": "0aec107d",
   "metadata": {},
   "outputs": [
    {
     "name": "stdout",
     "output_type": "stream",
     "text": [
      "torch.Size([3, 28, 28])\n"
     ]
    }
   ],
   "source": [
    "input_image = torch.rand(3,28,28)\n",
    "print(input_image.size())"
   ]
  },
  {
   "cell_type": "markdown",
   "id": "b038147e",
   "metadata": {},
   "source": [
    "## nn.Flatten\n",
    "\n",
    "We initialize the nn.Flatten layer to convert each 2D 28x28 image into a contiguous array of 784 pixel values ( the minibatch dimension (at dim=0) is maintained)."
   ]
  },
  {
   "cell_type": "code",
   "execution_count": 28,
   "id": "f3b4c9a1",
   "metadata": {},
   "outputs": [
    {
     "name": "stdout",
     "output_type": "stream",
     "text": [
      "torch.Size([3, 784])\n"
     ]
    }
   ],
   "source": [
    "flatten = nn.Flatten()\n",
    "flat_image = flatten(input_image)\n",
    "print(flat_image.size())"
   ]
  },
  {
   "cell_type": "markdown",
   "id": "e2cf4369",
   "metadata": {},
   "source": [
    "## nn.Linear\n",
    "\n",
    "The linear layer is a module that applies a linear transformation on the input using its stored weights and biases."
   ]
  },
  {
   "cell_type": "code",
   "execution_count": 29,
   "id": "05e95a14",
   "metadata": {},
   "outputs": [
    {
     "name": "stdout",
     "output_type": "stream",
     "text": [
      "torch.Size([3, 20])\n"
     ]
    }
   ],
   "source": [
    "layer1 = nn.Linear(in_features=28*28, out_features=20)\n",
    "hidden1 = layer1(flat_image)\n",
    "print(hidden1.size())"
   ]
  },
  {
   "cell_type": "markdown",
   "id": "31e88a7a",
   "metadata": {},
   "source": [
    "## nn.ReLU\n",
    "\n",
    "Non-linear activations are what create the complex mappings between the model’s inputs and outputs. They are applied after linear transformations to introduce nonlinearity, helping neural networks learn a wide variety of phenomena.\n",
    "\n",
    "In this model, we use nn.ReLU between our linear layers, but there’s other activations to introduce non-linearity in your model."
   ]
  },
  {
   "cell_type": "code",
   "execution_count": 30,
   "id": "69b9bcb3",
   "metadata": {},
   "outputs": [
    {
     "name": "stdout",
     "output_type": "stream",
     "text": [
      "Before ReLU: tensor([[-0.4665, -0.3476,  0.0528,  0.0341, -0.1381, -0.6701,  0.2596, -0.0893,\n",
      "          0.1842,  0.0037,  0.1799,  0.7648, -0.1874, -0.2829,  0.3908,  0.4948,\n",
      "          0.0124, -0.0305,  0.1092,  0.4039],\n",
      "        [-0.3238, -0.3212,  0.0972, -0.1738, -0.4147, -0.6638,  0.1154, -0.1260,\n",
      "          0.3321, -0.2809,  0.0849,  0.5474,  0.1532, -0.3480,  0.6300,  0.4765,\n",
      "         -0.2374, -0.0717, -0.2039, -0.0507],\n",
      "        [-0.4527, -0.2340,  0.2043,  0.1281, -0.0867, -0.2764, -0.2231, -0.4015,\n",
      "          0.2992, -0.0422, -0.0138,  0.7040,  0.2096, -0.7557,  0.9217,  0.2168,\n",
      "          0.0439,  0.1405, -0.0802, -0.1206]], grad_fn=<AddmmBackward0>)\n",
      "\n",
      "\n",
      "After ReLU: tensor([[0.0000, 0.0000, 0.0528, 0.0341, 0.0000, 0.0000, 0.2596, 0.0000, 0.1842,\n",
      "         0.0037, 0.1799, 0.7648, 0.0000, 0.0000, 0.3908, 0.4948, 0.0124, 0.0000,\n",
      "         0.1092, 0.4039],\n",
      "        [0.0000, 0.0000, 0.0972, 0.0000, 0.0000, 0.0000, 0.1154, 0.0000, 0.3321,\n",
      "         0.0000, 0.0849, 0.5474, 0.1532, 0.0000, 0.6300, 0.4765, 0.0000, 0.0000,\n",
      "         0.0000, 0.0000],\n",
      "        [0.0000, 0.0000, 0.2043, 0.1281, 0.0000, 0.0000, 0.0000, 0.0000, 0.2992,\n",
      "         0.0000, 0.0000, 0.7040, 0.2096, 0.0000, 0.9217, 0.2168, 0.0439, 0.1405,\n",
      "         0.0000, 0.0000]], grad_fn=<ReluBackward0>)\n"
     ]
    }
   ],
   "source": [
    "print(f\"Before ReLU: {hidden1}\\n\\n\")\n",
    "hidden1 = nn.ReLU()(hidden1)\n",
    "print(f\"After ReLU: {hidden1}\")"
   ]
  },
  {
   "cell_type": "markdown",
   "id": "da19414e",
   "metadata": {},
   "source": [
    "## nn.Softmax\n",
    "\n",
    "The last linear layer of the neural network returns logits - raw values in [-infty, infty] - which are passed to the nn.Softmax module. The logits are scaled to values [0, 1] representing the model’s predicted probabilities for each class. dim parameter indicates the dimension along which the values must sum to 1."
   ]
  },
  {
   "cell_type": "code",
   "execution_count": 32,
   "id": "66b7f7fc",
   "metadata": {},
   "outputs": [
    {
     "data": {
      "text/plain": [
       "tensor([[0.1009, 0.1086, 0.0970, 0.1029, 0.1009, 0.0933, 0.1058, 0.0949, 0.1058,\n",
       "         0.0899]], device='cuda:0', grad_fn=<SoftmaxBackward0>)"
      ]
     },
     "execution_count": 32,
     "metadata": {},
     "output_type": "execute_result"
    }
   ],
   "source": [
    "softmax = nn.Softmax(dim=1)\n",
    "pred_probab = softmax(logits)\n",
    "pred_probab"
   ]
  },
  {
   "cell_type": "markdown",
   "id": "c43f98ec",
   "metadata": {},
   "source": [
    "## Model Parameters\n",
    "\n",
    "Many layers inside a neural network are parameterized, i.e. have associated weights and biases that are optimized during training. Subclassing nn.Module automatically tracks all fields defined inside your model object, and makes all parameters accessible using your model’s parameters() or named_parameters() methods.\n",
    "\n",
    "In this example, we iterate over each parameter, and print its size and a preview of its values."
   ]
  },
  {
   "cell_type": "code",
   "execution_count": 33,
   "id": "af2488e2",
   "metadata": {},
   "outputs": [
    {
     "name": "stdout",
     "output_type": "stream",
     "text": [
      "Model structure: NeuralNetwork(\n",
      "  (flatten): Flatten(start_dim=1, end_dim=-1)\n",
      "  (linear_relu_stack): Sequential(\n",
      "    (0): Linear(in_features=784, out_features=512, bias=True)\n",
      "    (1): ReLU()\n",
      "    (2): Linear(in_features=512, out_features=512, bias=True)\n",
      "    (3): ReLU()\n",
      "    (4): Linear(in_features=512, out_features=10, bias=True)\n",
      "  )\n",
      ")\n",
      "\n",
      "\n",
      "Layer: linear_relu_stack.0.weight | Size: torch.Size([512, 784]) | Values : tensor([[-0.0320, -0.0269,  0.0155,  ..., -0.0074,  0.0117, -0.0110],\n",
      "        [ 0.0019, -0.0084, -0.0140,  ...,  0.0065, -0.0048,  0.0286]],\n",
      "       device='cuda:0', grad_fn=<SliceBackward0>) \n",
      "\n",
      "Layer: linear_relu_stack.0.bias | Size: torch.Size([512]) | Values : tensor([0.0225, 0.0244], device='cuda:0', grad_fn=<SliceBackward0>) \n",
      "\n",
      "Layer: linear_relu_stack.2.weight | Size: torch.Size([512, 512]) | Values : tensor([[-0.0057, -0.0141, -0.0111,  ..., -0.0381,  0.0251, -0.0294],\n",
      "        [ 0.0102,  0.0093,  0.0409,  ...,  0.0082, -0.0003, -0.0075]],\n",
      "       device='cuda:0', grad_fn=<SliceBackward0>) \n",
      "\n",
      "Layer: linear_relu_stack.2.bias | Size: torch.Size([512]) | Values : tensor([ 0.0210, -0.0027], device='cuda:0', grad_fn=<SliceBackward0>) \n",
      "\n",
      "Layer: linear_relu_stack.4.weight | Size: torch.Size([10, 512]) | Values : tensor([[-0.0277,  0.0044,  0.0169,  ..., -0.0366,  0.0342, -0.0022],\n",
      "        [ 0.0075,  0.0097,  0.0234,  ...,  0.0374,  0.0409,  0.0045]],\n",
      "       device='cuda:0', grad_fn=<SliceBackward0>) \n",
      "\n",
      "Layer: linear_relu_stack.4.bias | Size: torch.Size([10]) | Values : tensor([ 0.0436, -0.0034], device='cuda:0', grad_fn=<SliceBackward0>) \n",
      "\n"
     ]
    }
   ],
   "source": [
    "print(f\"Model structure: {model}\\n\\n\")\n",
    "\n",
    "for name, param in model.named_parameters():\n",
    "    print(f\"Layer: {name} | Size: {param.size()} | Values : {param[:2]} \\n\")"
   ]
  }
 ],
 "metadata": {
  "kernelspec": {
   "display_name": ".torch",
   "language": "python",
   "name": "python3"
  },
  "language_info": {
   "codemirror_mode": {
    "name": "ipython",
    "version": 3
   },
   "file_extension": ".py",
   "mimetype": "text/x-python",
   "name": "python",
   "nbconvert_exporter": "python",
   "pygments_lexer": "ipython3",
   "version": "3.12.3"
  }
 },
 "nbformat": 4,
 "nbformat_minor": 5
}
