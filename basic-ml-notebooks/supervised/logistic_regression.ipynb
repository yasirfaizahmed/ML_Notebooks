{
 "cells": [
  {
   "cell_type": "code",
   "execution_count": null,
   "id": "0b103a72",
   "metadata": {},
   "outputs": [],
   "source": [
    "from sklearn.linear_model import LogisticRegression\n",
    "from sklearn import preprocessing\n",
    "from sklearn import impute\n",
    "from sklearn.datasets import make_regression\n",
    "from sklearn import model_selection\n",
    "import seaborn as sns\n",
    "import pandas as pd\n",
    "import numpy as np\n",
    "import datasets\n",
    "from matplotlib import pyplot as plt"
   ]
  },
  {
   "cell_type": "code",
   "execution_count": null,
   "id": "24963607",
   "metadata": {},
   "outputs": [],
   "source": [
    "dataset = datasets.load_dataset(\"scikit-learn/adult-census-income\", split=\"train\", cache_dir=\"../../.datasets\")\n",
    "dataset.info"
   ]
  },
  {
   "cell_type": "code",
   "execution_count": null,
   "id": "05cc2e1f",
   "metadata": {},
   "outputs": [],
   "source": [
    "df = dataset.to_pandas()"
   ]
  },
  {
   "cell_type": "code",
   "execution_count": null,
   "id": "2b2cdcd5",
   "metadata": {},
   "outputs": [],
   "source": [
    "cols_with_int64_dtype = [cols for cols in df.columns if df[cols].dtype == 'int64']\n",
    "cols_with_int64_dtype"
   ]
  },
  {
   "cell_type": "code",
   "execution_count": null,
   "id": "b2a4f030",
   "metadata": {},
   "outputs": [],
   "source": [
    "fig, axes = plt.subplots(6, 1, figsize=(20, 20))\n",
    "for col, ax in zip(cols_with_int64_dtype, axes):\n",
    "  sns.kdeplot(df, x=col, ax=ax)"
   ]
  },
  {
   "cell_type": "code",
   "execution_count": null,
   "id": "b0b2bb0b",
   "metadata": {},
   "outputs": [],
   "source": [
    "df[\"income\"].unique()"
   ]
  },
  {
   "cell_type": "code",
   "execution_count": null,
   "id": "c267738c",
   "metadata": {},
   "outputs": [],
   "source": [
    "numeric_columns = df.select_dtypes(include=['int64', 'float64', 'float32']).columns\n",
    "categoric_columns = df.select_dtypes(include=['object']).columns.drop(\"income\")\n",
    "\n",
    "imputer = impute.SimpleImputer(strategy='most_frequent')\n",
    "df[categoric_columns] = imputer.fit_transform(df[categoric_columns])\n",
    "\n",
    "scalar = preprocessing.MinMaxScaler()\n",
    "onehotencoder = preprocessing.OneHotEncoder(drop='first')\n",
    "\n",
    "df[numeric_columns] = scalar.fit_transform(df[numeric_columns])\n",
    "encoded = onehotencoder.fit_transform(df[categoric_columns])\n",
    "encoded_dense = encoded.toarray()\n",
    "# Create new column names\n",
    "encoded_cols = onehotencoder.get_feature_names_out(categoric_columns)\n",
    "# Convert to DataFrame\n",
    "encoded_df = pd.DataFrame(encoded_dense, columns=encoded_cols, index=df.index)\n",
    "# Drop original categorical columns and concat\n",
    "df = df.drop(categoric_columns, axis=1)\n",
    "df = pd.concat([df, encoded_df], axis=1)\n",
    "\n",
    "df[\"income\"] = df[\"income\"].map({\"<=50K\": 0, \">50K\": 1})\n",
    "\n",
    "df = df.dropna()\n",
    "\n",
    "X = df.drop(\"income\", axis=1)\n",
    "y = df[\"income\"]"
   ]
  },
  {
   "cell_type": "code",
   "execution_count": null,
   "id": "795e879a",
   "metadata": {},
   "outputs": [],
   "source": [
    "df"
   ]
  },
  {
   "cell_type": "code",
   "execution_count": null,
   "id": "5ab3c143",
   "metadata": {},
   "outputs": [],
   "source": [
    "X_train, X_test, y_train, y_test = model_selection.train_test_split(X, y, test_size=0.1, random_state=55)"
   ]
  },
  {
   "cell_type": "code",
   "execution_count": null,
   "id": "bf84ec61",
   "metadata": {},
   "outputs": [],
   "source": [
    "logistic_reg = LogisticRegression()\n",
    "logistic_reg.fit(X_train, y_train)"
   ]
  },
  {
   "cell_type": "code",
   "execution_count": 93,
   "id": "a1d73584",
   "metadata": {},
   "outputs": [
    {
     "name": "stdout",
     "output_type": "stream",
     "text": [
      "[1 0 1 0 0 0 0 0 1 0]\n",
      "[1 0 0 0 1 0 1 0 1 0]\n",
      "0.8532391771568928\n"
     ]
    }
   ],
   "source": [
    "y_pred = logistic_reg.predict(X_test)\n",
    "print(y_pred[:10])\n",
    "print(y_test.values[:10])   # use .values to get NumPy array\n",
    "\n",
    "accuracy = sum([1 for i, label in enumerate(y_pred) if label == y_test.values[i]])\n",
    "print(accuracy/len(y_test.values))\n"
   ]
  }
 ],
 "metadata": {
  "kernelspec": {
   "display_name": "ml_env",
   "language": "python",
   "name": "python3"
  },
  "language_info": {
   "codemirror_mode": {
    "name": "ipython",
    "version": 3
   },
   "file_extension": ".py",
   "mimetype": "text/x-python",
   "name": "python",
   "nbconvert_exporter": "python",
   "pygments_lexer": "ipython3",
   "version": "3.12.12"
  }
 },
 "nbformat": 4,
 "nbformat_minor": 5
}
