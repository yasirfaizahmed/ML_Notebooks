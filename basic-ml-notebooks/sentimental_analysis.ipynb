{
 "cells": [
  {
   "cell_type": "code",
   "execution_count": 1,
   "id": "304036c1",
   "metadata": {},
   "outputs": [
    {
     "name": "stdout",
     "output_type": "stream",
     "text": [
      "Requirement already satisfied: datasets in /home/xd/Documents/python_codes/ML_Notebooks/.venv/lib/python3.12/site-packages (3.5.0)\n",
      "Requirement already satisfied: filelock in /home/xd/Documents/python_codes/ML_Notebooks/.venv/lib/python3.12/site-packages (from datasets) (3.18.0)\n",
      "Requirement already satisfied: numpy>=1.17 in /home/xd/Documents/python_codes/ML_Notebooks/.venv/lib/python3.12/site-packages (from datasets) (2.1.1)\n",
      "Requirement already satisfied: pyarrow>=15.0.0 in /home/xd/Documents/python_codes/ML_Notebooks/.venv/lib/python3.12/site-packages (from datasets) (19.0.1)\n",
      "Requirement already satisfied: dill<0.3.9,>=0.3.0 in /home/xd/Documents/python_codes/ML_Notebooks/.venv/lib/python3.12/site-packages (from datasets) (0.3.8)\n",
      "Requirement already satisfied: pandas in /home/xd/Documents/python_codes/ML_Notebooks/.venv/lib/python3.12/site-packages (from datasets) (2.2.3)\n",
      "Requirement already satisfied: requests>=2.32.2 in /home/xd/Documents/python_codes/ML_Notebooks/.venv/lib/python3.12/site-packages (from datasets) (2.32.3)\n",
      "Requirement already satisfied: tqdm>=4.66.3 in /home/xd/Documents/python_codes/ML_Notebooks/.venv/lib/python3.12/site-packages (from datasets) (4.67.1)\n",
      "Requirement already satisfied: xxhash in /home/xd/Documents/python_codes/ML_Notebooks/.venv/lib/python3.12/site-packages (from datasets) (3.5.0)\n",
      "Requirement already satisfied: multiprocess<0.70.17 in /home/xd/Documents/python_codes/ML_Notebooks/.venv/lib/python3.12/site-packages (from datasets) (0.70.16)\n",
      "Requirement already satisfied: fsspec<=2024.12.0,>=2023.1.0 in /home/xd/Documents/python_codes/ML_Notebooks/.venv/lib/python3.12/site-packages (from fsspec[http]<=2024.12.0,>=2023.1.0->datasets) (2024.12.0)\n",
      "Requirement already satisfied: aiohttp in /home/xd/Documents/python_codes/ML_Notebooks/.venv/lib/python3.12/site-packages (from datasets) (3.11.16)\n",
      "Requirement already satisfied: huggingface-hub>=0.24.0 in /home/xd/Documents/python_codes/ML_Notebooks/.venv/lib/python3.12/site-packages (from datasets) (0.30.2)\n",
      "Requirement already satisfied: packaging in /home/xd/Documents/python_codes/ML_Notebooks/.venv/lib/python3.12/site-packages (from datasets) (24.2)\n",
      "Requirement already satisfied: pyyaml>=5.1 in /home/xd/Documents/python_codes/ML_Notebooks/.venv/lib/python3.12/site-packages (from datasets) (6.0.2)\n",
      "Requirement already satisfied: aiohappyeyeballs>=2.3.0 in /home/xd/Documents/python_codes/ML_Notebooks/.venv/lib/python3.12/site-packages (from aiohttp->datasets) (2.6.1)\n",
      "Requirement already satisfied: aiosignal>=1.1.2 in /home/xd/Documents/python_codes/ML_Notebooks/.venv/lib/python3.12/site-packages (from aiohttp->datasets) (1.3.2)\n",
      "Requirement already satisfied: attrs>=17.3.0 in /home/xd/Documents/python_codes/ML_Notebooks/.venv/lib/python3.12/site-packages (from aiohttp->datasets) (25.3.0)\n",
      "Requirement already satisfied: frozenlist>=1.1.1 in /home/xd/Documents/python_codes/ML_Notebooks/.venv/lib/python3.12/site-packages (from aiohttp->datasets) (1.5.0)\n",
      "Requirement already satisfied: multidict<7.0,>=4.5 in /home/xd/Documents/python_codes/ML_Notebooks/.venv/lib/python3.12/site-packages (from aiohttp->datasets) (6.4.3)\n",
      "Requirement already satisfied: propcache>=0.2.0 in /home/xd/Documents/python_codes/ML_Notebooks/.venv/lib/python3.12/site-packages (from aiohttp->datasets) (0.3.1)\n",
      "Requirement already satisfied: yarl<2.0,>=1.17.0 in /home/xd/Documents/python_codes/ML_Notebooks/.venv/lib/python3.12/site-packages (from aiohttp->datasets) (1.19.0)\n",
      "Requirement already satisfied: typing-extensions>=3.7.4.3 in /home/xd/Documents/python_codes/ML_Notebooks/.venv/lib/python3.12/site-packages (from huggingface-hub>=0.24.0->datasets) (4.13.2)\n",
      "Requirement already satisfied: charset-normalizer<4,>=2 in /home/xd/Documents/python_codes/ML_Notebooks/.venv/lib/python3.12/site-packages (from requests>=2.32.2->datasets) (3.4.1)\n",
      "Requirement already satisfied: idna<4,>=2.5 in /home/xd/Documents/python_codes/ML_Notebooks/.venv/lib/python3.12/site-packages (from requests>=2.32.2->datasets) (3.10)\n",
      "Requirement already satisfied: urllib3<3,>=1.21.1 in /home/xd/Documents/python_codes/ML_Notebooks/.venv/lib/python3.12/site-packages (from requests>=2.32.2->datasets) (2.4.0)\n",
      "Requirement already satisfied: certifi>=2017.4.17 in /home/xd/Documents/python_codes/ML_Notebooks/.venv/lib/python3.12/site-packages (from requests>=2.32.2->datasets) (2025.1.31)\n",
      "Requirement already satisfied: python-dateutil>=2.8.2 in /home/xd/Documents/python_codes/ML_Notebooks/.venv/lib/python3.12/site-packages (from pandas->datasets) (2.9.0.post0)\n",
      "Requirement already satisfied: pytz>=2020.1 in /home/xd/Documents/python_codes/ML_Notebooks/.venv/lib/python3.12/site-packages (from pandas->datasets) (2025.2)\n",
      "Requirement already satisfied: tzdata>=2022.7 in /home/xd/Documents/python_codes/ML_Notebooks/.venv/lib/python3.12/site-packages (from pandas->datasets) (2025.2)\n",
      "Requirement already satisfied: six>=1.5 in /home/xd/Documents/python_codes/ML_Notebooks/.venv/lib/python3.12/site-packages (from python-dateutil>=2.8.2->pandas->datasets) (1.17.0)\n"
     ]
    },
    {
     "name": "stderr",
     "output_type": "stream",
     "text": [
      "/home/xd/Documents/python_codes/ML_Notebooks/.venv/lib/python3.12/site-packages/tqdm/auto.py:21: TqdmWarning: IProgress not found. Please update jupyter and ipywidgets. See https://ipywidgets.readthedocs.io/en/stable/user_install.html\n",
      "  from .autonotebook import tqdm as notebook_tqdm\n"
     ]
    }
   ],
   "source": [
    "! pip install datasets\n",
    "\n",
    "import sys\n",
    "PATH = \"/home/xd/Documents/python_codes/ML_Notebooks\"\n",
    "sys.path.append(PATH)\n",
    "\n",
    "from datasets import load_dataset\n",
    "from ML_notebook_config import DATASETS, SENTIMENTAL_ANALYSIS_HF_DATASET\n",
    "\n",
    "ds = load_dataset(SENTIMENTAL_ANALYSIS_HF_DATASET)"
   ]
  },
  {
   "cell_type": "code",
   "execution_count": 2,
   "id": "5237c836",
   "metadata": {},
   "outputs": [],
   "source": [
    "import pandas as pd\n",
    "from pathlib import Path as p\n",
    "\n",
    "df = pd.DataFrame(ds[\"train\"])\n",
    "\n",
    "# saving the dataframe to csv locally\n",
    "df.to_csv(p.joinpath(DATASETS, f\"{SENTIMENTAL_ANALYSIS_HF_DATASET.replace(\"/\", \"_\")}.csv\"))"
   ]
  },
  {
   "cell_type": "code",
   "execution_count": null,
   "id": "67d1b7eb",
   "metadata": {},
   "outputs": [],
   "source": []
  }
 ],
 "metadata": {
  "kernelspec": {
   "display_name": ".venv",
   "language": "python",
   "name": "python3"
  },
  "language_info": {
   "codemirror_mode": {
    "name": "ipython",
    "version": 3
   },
   "file_extension": ".py",
   "mimetype": "text/x-python",
   "name": "python",
   "nbconvert_exporter": "python",
   "pygments_lexer": "ipython3",
   "version": "3.12.3"
  }
 },
 "nbformat": 4,
 "nbformat_minor": 5
}
