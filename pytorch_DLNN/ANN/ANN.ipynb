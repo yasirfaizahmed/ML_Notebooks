{
 "cells": [
  {
   "cell_type": "code",
   "execution_count": 1,
   "id": "e47ccf4d",
   "metadata": {},
   "outputs": [
    {
     "name": "stdout",
     "output_type": "stream",
     "text": [
      "cuda:0\n"
     ]
    }
   ],
   "source": [
    "from torch import nn\n",
    "from torch.nn import functional as F\n",
    "import torch\n",
    "\n",
    "from torchvision.datasets import MNIST\n",
    "from torchvision import transforms\n",
    "\n",
    "from torch.utils.data import DataLoader, random_split\n",
    "\n",
    "from torch import optim\n",
    "\n",
    "device = torch.device(0)\n",
    "print(device)"
   ]
  },
  {
   "cell_type": "code",
   "execution_count": null,
   "id": "df5f80cc",
   "metadata": {},
   "outputs": [],
   "source": [
    "class ANN1(nn.Module):\n",
    "  def __init__(self, input_size: int, hidden1: int, hidden2: int, output_size: int):\n",
    "    super().__init__()\n",
    "    self.flattened = nn.Flatten()\n",
    "    self.fc1 = nn.Linear(input_size, hidden1)\n",
    "    self.fc2 = nn.Linear(hidden1, hidden2)\n",
    "    self.fc3 = nn.Linear(hidden2, output_size)\n",
    "  \n",
    "  def forward(self, x):\n",
    "    x = self.flattened(x)\n",
    "    x = F.relu(self.fc1(x))\n",
    "    x = F.relu(self.fc2(x))\n",
    "    x = self.fc3(x)\n",
    "    return x  "
   ]
  },
  {
   "cell_type": "code",
   "execution_count": null,
   "id": "c5e57ad6",
   "metadata": {},
   "outputs": [
    {
     "name": "stdout",
     "output_type": "stream",
     "text": [
      "ANN2(\n",
      "  (flatten): Flatten(start_dim=1, end_dim=-1)\n",
      "  (linear_relu_stack): Sequential(\n",
      "    (0): Linear(in_features=784, out_features=512, bias=True)\n",
      "    (1): ReLU()\n",
      "    (2): Linear(in_features=512, out_features=512, bias=True)\n",
      "    (3): ReLU()\n",
      "    (4): Linear(in_features=512, out_features=10, bias=True)\n",
      "  )\n",
      ")\n"
     ]
    }
   ],
   "source": [
    "class ANN2(nn.Module):\n",
    "  def __init__(self, input_size: int, output_size: int):\n",
    "    super().__init__()\n",
    "    self.flatten = nn.Flatten()\n",
    "    self.linear_relu_stack = nn.Sequential(\n",
    "      nn.Linear(input_size, 512),\n",
    "      nn.ReLU(),\n",
    "      nn.Linear(512, 512),\n",
    "      nn.ReLU(),\n",
    "      nn.Linear(512, output_size)\n",
    "\t\t)\n",
    "\n",
    "  def forward(self, x):\n",
    "    x = self.flatten(x)\n",
    "    logits = self.linear_relu_stack(x)\n",
    "    return logits\n",
    "\n",
    "import os\n",
    "os.environ[\"CUDA_LAUNCH_BLOCKING\"] = \"1\"\n",
    "model = ANN2(28*28, 10).to(\"cuda\")\n",
    "print(model)"
   ]
  },
  {
   "cell_type": "code",
   "execution_count": 10,
   "id": "f8dd2dd0",
   "metadata": {},
   "outputs": [],
   "source": [
    "model = ANN1(input_size=28*28, hidden1=32, hidden2=32, output_size=10)"
   ]
  },
  {
   "cell_type": "code",
   "execution_count": 32,
   "id": "8327557c",
   "metadata": {},
   "outputs": [],
   "source": [
    "transoform_pipeline = transforms.Compose([transforms.ToTensor(),\n",
    "                                         transforms.Normalize(mean=(0.5), std=(0.5))])\n",
    "\n",
    "train_size, val_size = 50000, 10000\n",
    "\n",
    "full_train_data = MNIST(root='./data', train=True, download=True, transform=transoform_pipeline)\n",
    "test_data = MNIST(root='./data', train=False, download=True, transform=transoform_pipeline)\n",
    "train_data, val_data = random_split(full_train_data, [train_size, val_size])\n",
    "\n",
    "train_loader = DataLoader(train_data, shuffle=True, batch_size=64,\n",
    "                          num_workers=1)\n",
    "val_loader = DataLoader(val_data, batch_size=64, shuffle=True,\n",
    "                        num_workers=1)\n",
    "test_loader = DataLoader(test_data, shuffle=True, batch_size=64,\n",
    "                         num_workers=1)\n"
   ]
  },
  {
   "cell_type": "code",
   "execution_count": 31,
   "id": "17cd7db5",
   "metadata": {},
   "outputs": [
    {
     "data": {
      "text/plain": [
       "<torch.utils.data.dataloader.DataLoader at 0x7d39fd1e96f0>"
      ]
     },
     "execution_count": 31,
     "metadata": {},
     "output_type": "execute_result"
    }
   ],
   "source": [
    "val_loader"
   ]
  },
  {
   "cell_type": "code",
   "execution_count": 33,
   "id": "35a9cd0c",
   "metadata": {},
   "outputs": [
    {
     "name": "stdout",
     "output_type": "stream",
     "text": [
      "Epoch 1: Train Loss=0.2192, Val Loss=0.1985, Val Acc=0.9418\n",
      "Epoch 2: Train Loss=0.1886, Val Loss=0.1836, Val Acc=0.9441\n",
      "Epoch 3: Train Loss=0.1670, Val Loss=0.1642, Val Acc=0.9490\n",
      "Epoch 4: Train Loss=0.1523, Val Loss=0.1626, Val Acc=0.9497\n",
      "Epoch 5: Train Loss=0.1417, Val Loss=0.1601, Val Acc=0.9527\n"
     ]
    }
   ],
   "source": [
    "criterion = nn.CrossEntropyLoss()\n",
    "optimizer = optim.Adam(model.parameters(), lr=0.001)\n",
    "\n",
    "num_epochs = 5\n",
    "for epoch in range(num_epochs):\n",
    "\t# ---- Training ----\n",
    "\tmodel.train()\n",
    "\ttrain_loss = 0\n",
    "\tfor images, labels in train_loader:\n",
    "\t\toptimizer.zero_grad()\n",
    "\t\toutputs = model(images)\n",
    "\t\tloss = criterion(outputs, labels)\n",
    "\t\tloss.backward()\n",
    "\t\toptimizer.step()\n",
    "\t\ttrain_loss += loss.item()\n",
    "\t\n",
    "\t# ---- Validation ----\n",
    "\tmodel.eval()\n",
    "\tval_loss = 0\n",
    "\tcorrect = 0\n",
    "\twith torch.no_grad():\n",
    "\t\tfor images, labels in val_loader:\n",
    "\t\t\toutputs = model(images)\n",
    "\t\t\tloss = criterion(outputs, labels)\n",
    "\t\t\tval_loss += loss.item()\n",
    "\t\t\tpreds = outputs.argmax(dim=1)\n",
    "\t\t\tcorrect += (preds == labels).sum().item()\n",
    "\t\n",
    "\tval_acc = correct / len(val_data)\n",
    "\tprint(f\"Epoch {epoch+1}: Train Loss={train_loss/len(train_loader):.4f}, \"\n",
    "\t\t\t\tf\"Val Loss={val_loss/len(val_loader):.4f}, Val Acc={val_acc:.4f}\")\n",
    "    "
   ]
  }
 ],
 "metadata": {
  "kernelspec": {
   "display_name": "torch_env",
   "language": "python",
   "name": "python3"
  },
  "language_info": {
   "codemirror_mode": {
    "name": "ipython",
    "version": 3
   },
   "file_extension": ".py",
   "mimetype": "text/x-python",
   "name": "python",
   "nbconvert_exporter": "python",
   "pygments_lexer": "ipython3",
   "version": "3.10.18"
  }
 },
 "nbformat": 4,
 "nbformat_minor": 5
}
