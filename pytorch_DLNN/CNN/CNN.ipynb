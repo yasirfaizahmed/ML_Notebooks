{
 "cells": [
  {
   "cell_type": "code",
   "execution_count": 14,
   "id": "7f21d267",
   "metadata": {},
   "outputs": [],
   "source": [
    "import torch, torchvision"
   ]
  },
  {
   "cell_type": "code",
   "execution_count": 15,
   "id": "1e809626",
   "metadata": {},
   "outputs": [],
   "source": [
    "class CNN(torch.nn.Module):\n",
    "  def __init__(self, hidden1_size: int, hidden_size2: int, output_size: int):\n",
    "    super().__init__()\n",
    "    \n",
    "    self.conv1 = torch.nn.Conv2d(in_channels=1, out_channels=16, kernel_size=3, stride=1, padding=1)\n",
    "    self.conv2 = torch.nn.Conv2d(in_channels=16, out_channels=32, kernel_size=3, stride=1, padding=1)\n",
    "\n",
    "    self.flatten = torch.nn.Flatten()\n",
    "\n",
    "    self.fc1 = torch.nn.Linear(in_features=32*7*7, out_features=hidden1_size)\n",
    "    self.fc2 = torch.nn.Linear(in_features=hidden1_size, out_features=hidden_size2)\n",
    "    \n",
    "    self.ol = torch.nn.Linear(in_features=hidden_size2, out_features=output_size)\n",
    "  \n",
    "  def forward(self, input_data):\n",
    "    max_pooled_conv1 = torch.nn.MaxPool2d(kernel_size=2, stride=2)(torch.nn.functional.relu(self.conv1(input_data)))\n",
    "    max_pooled_conv2 = torch.nn.MaxPool2d(kernel_size=2, stride=2)(torch.nn.functional.relu(self.conv2(max_pooled_conv1)))\n",
    "\n",
    "    flattened = self.flatten(max_pooled_conv2)\n",
    "\n",
    "    fc1_out = torch.nn.functional.relu(self.fc1(flattened))\n",
    "    fc2_out = torch.nn.functional.relu(self.fc2(fc1_out))\n",
    "\n",
    "    # outputs = torch.nn.functional.softmax(self.ol(fc2_out))\n",
    "\n",
    "    return fc2_out\n",
    "    \n",
    "    "
   ]
  },
  {
   "cell_type": "code",
   "execution_count": 16,
   "id": "2d89266f",
   "metadata": {},
   "outputs": [],
   "source": [
    "# # random data\n",
    "# images = torch.randint(0, 255, (10000, 28, 28), dtype=torch.uint8)\n",
    "# labels = torch.randint(0, 9, (10000,), dtype=torch.long)\n",
    "# transformer = torchvision.transforms.Compose([torchvision.transforms.ConvertImageDtype(torch.float32),\n",
    "#                                              torchvision.transforms.Normalize((0.5,), (0.5,))])\n",
    "# transformed_data = transformer(images)\n",
    "# # wraping images and labels\n",
    "# input_data = torch.utils.data.TensorDataset(transformed_data, labels)\n",
    "\n",
    "\n",
    "# MINIST data\n",
    "transformer = torchvision.transforms.Compose([torchvision.transforms.ToTensor(),\n",
    "                                              torchvision.transforms.Grayscale(num_output_channels=1),\n",
    "                                              torchvision.transforms.Normalize(mean=(0.5,), std=(0.5,))])\n",
    "input_data = torchvision.datasets.MNIST(root=\"../../.datasets/\", train=True, download=True, transform=transformer)\n",
    "\n",
    "\n",
    "train_data, val_data = torch.utils.data.random_split(input_data, [40000, 20000])\n",
    "train_loader = torch.utils.data.DataLoader(train_data, batch_size=64, num_workers=1)\n",
    "val_loader = torch.utils.data.DataLoader(val_data, batch_size=64, num_workers=1)"
   ]
  },
  {
   "cell_type": "code",
   "execution_count": 17,
   "id": "cd9934b7",
   "metadata": {},
   "outputs": [
    {
     "name": "stdout",
     "output_type": "stream",
     "text": [
      "Using device: cuda\n"
     ]
    }
   ],
   "source": [
    "device = torch.device(\"cuda\" if torch.cuda.is_available() else \"cpu\")\n",
    "print(\"Using device:\", device)"
   ]
  },
  {
   "cell_type": "code",
   "execution_count": 18,
   "id": "5c706920",
   "metadata": {},
   "outputs": [
    {
     "name": "stdout",
     "output_type": "stream",
     "text": [
      "Epoch 1: Train Loss=0.4845, Val Loss=0.1084, Val Acc=0.9691\n",
      "Epoch 2: Train Loss=0.0832, Val Loss=0.0823, Val Acc=0.9762\n",
      "Epoch 3: Train Loss=0.0592, Val Loss=0.0730, Val Acc=0.9791\n",
      "Epoch 4: Train Loss=0.0458, Val Loss=0.0682, Val Acc=0.9810\n",
      "Epoch 5: Train Loss=0.0370, Val Loss=0.0603, Val Acc=0.9829\n",
      "Epoch 6: Train Loss=0.0299, Val Loss=0.0579, Val Acc=0.9847\n",
      "Epoch 7: Train Loss=0.0237, Val Loss=0.0651, Val Acc=0.9826\n",
      "Epoch 8: Train Loss=0.0196, Val Loss=0.0624, Val Acc=0.9844\n",
      "Epoch 9: Train Loss=0.0171, Val Loss=0.0624, Val Acc=0.9846\n",
      "Epoch 10: Train Loss=0.0141, Val Loss=0.0651, Val Acc=0.9852\n"
     ]
    }
   ],
   "source": [
    "model = CNN(hidden1_size=64, hidden_size2=64, output_size=10).to(device)\n",
    "criterion = torch.nn.CrossEntropyLoss()\n",
    "optimizer = torch.optim.Adam(model.parameters(), lr=0.001)\n",
    "\n",
    "epochs = 10\n",
    "\n",
    "for epoch in range(epochs):\n",
    "  train_loss = 0\n",
    "  model.train()\n",
    "  for i, (images, labels) in enumerate(train_loader):\n",
    "    optimizer.zero_grad()\n",
    "    images, labels = images.to(device), labels.to(device)\n",
    "    outputs = model(images)\n",
    "    loss = criterion(outputs, labels)\n",
    "    loss.backward()\n",
    "    optimizer.step()\n",
    "    train_loss += loss.item()\n",
    "  \n",
    "  model.eval()\n",
    "  val_loss = 0\n",
    "  correct = 0\n",
    "  with torch.no_grad():\n",
    "    for images, labels in val_loader:\n",
    "      images, labels = images.to(device), labels.to(device)\n",
    "      outputs = model(images)\n",
    "      loss = criterion(outputs, labels)\n",
    "      val_loss += loss.item()\n",
    "      preds = outputs.argmax(dim=1)\n",
    "      correct += (preds == labels).sum().item()\n",
    "\n",
    "  val_acc = correct / len(val_data)\n",
    "  print(f\"Epoch {epoch+1}: Train Loss={train_loss/len(train_loader):.4f}, \"\n",
    "\t\t\t\tf\"Val Loss={val_loss/len(val_loader):.4f}, Val Acc={val_acc:.4f}\")\n"
   ]
  }
 ],
 "metadata": {
  "kernelspec": {
   "display_name": "torch_env",
   "language": "python",
   "name": "python3"
  },
  "language_info": {
   "codemirror_mode": {
    "name": "ipython",
    "version": 3
   },
   "file_extension": ".py",
   "mimetype": "text/x-python",
   "name": "python",
   "nbconvert_exporter": "python",
   "pygments_lexer": "ipython3",
   "version": "3.10.18"
  }
 },
 "nbformat": 4,
 "nbformat_minor": 5
}
