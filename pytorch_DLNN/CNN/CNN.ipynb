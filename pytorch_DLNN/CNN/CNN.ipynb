{
 "cells": [
  {
   "cell_type": "code",
   "execution_count": 2,
   "id": "7f21d267",
   "metadata": {},
   "outputs": [],
   "source": [
    "import torch, torchvision"
   ]
  },
  {
   "cell_type": "code",
   "execution_count": 3,
   "id": "1e809626",
   "metadata": {},
   "outputs": [],
   "source": [
    "class CNN(torch.nn.Module):\n",
    "  def __init__(self, hidden1_size: int, hidden_size2: int, output_size: int):\n",
    "    super().__init__()\n",
    "    \n",
    "    self.conv1 = torch.nn.Conv2d(in_channels=1, out_channels=16, kernel_size=3, stride=1, padding=1)\n",
    "    self.conv2 = torch.nn.Conv2d(in_channels=16, out_channels=32, kernel_size=3, stride=1, padding=1)\n",
    "\n",
    "    self.flatten = torch.nn.Flatten()\n",
    "\n",
    "    self.fc1 = torch.nn.Linear(in_features=32*7*7, out_features=hidden1_size)\n",
    "    self.fc2 = torch.nn.Linear(in_features=hidden1_size, out_features=hidden_size2)\n",
    "    \n",
    "    self.ol = torch.nn.Linear(in_features=hidden_size2, out_features=output_size)\n",
    "  \n",
    "  def forward(self, input_data):\n",
    "    max_pooled_conv1 = torch.nn.MaxPool2d(kernel_size=2, stride=2)(torch.nn.functional.relu(self.conv1(input_data)))\n",
    "    max_pooled_conv2 = torch.nn.MaxPool2d(kernel_size=2, stride=2)(torch.nn.functional.relu(self.conv2(max_pooled_conv1)))\n",
    "\n",
    "    flattened = self.flatten(max_pooled_conv2)\n",
    "\n",
    "    fc1_out = torch.nn.functional.relu(self.fc1(flattened))\n",
    "    fc2_out = torch.nn.functional.relu(self.fc2(fc1_out))\n",
    "\n",
    "    outputs = torch.nn.functional.softmax(self.ol(fc2_out))\n",
    "\n",
    "    return outputs\n",
    "    \n",
    "    "
   ]
  },
  {
   "cell_type": "code",
   "execution_count": 4,
   "id": "2d89266f",
   "metadata": {},
   "outputs": [],
   "source": [
    "input_data = torch.randint(255, (10000, 28, 28), dtype=torch.uint8)\n",
    "\n",
    "transormer = torchvision.transforms.Compose([torchvision.transforms.ConvertImageDtype(torch.float32),\n",
    "                                             torchvision.transforms.Normalize((0.5,), (0.5,))])\n",
    "transformed_data = transormer(input_data)\n",
    "\n",
    "train_data, val_data = torch.utils.data.random_split(transformed_data, [8000, 2000])\n",
    "\n",
    "train_loader = torch.utils.data.DataLoader(train_data, batch_size=10, num_workers=1)\n",
    "val_loader = torch.utils.data.DataLoader(val_data, batch_size=10, num_workers=1)"
   ]
  },
  {
   "cell_type": "code",
   "execution_count": null,
   "id": "5c706920",
   "metadata": {},
   "outputs": [
    {
     "ename": "ValueError",
     "evalue": "too many values to unpack (expected 2)",
     "output_type": "error",
     "traceback": [
      "\u001b[0;31m---------------------------------------------------------------------------\u001b[0m",
      "\u001b[0;31mValueError\u001b[0m                                Traceback (most recent call last)",
      "Cell \u001b[0;32mIn[5], line 3\u001b[0m\n\u001b[1;32m      1\u001b[0m model \u001b[38;5;241m=\u001b[39m CNN(hidden1_size\u001b[38;5;241m=\u001b[39m\u001b[38;5;241m256\u001b[39m, hidden_size2\u001b[38;5;241m=\u001b[39m\u001b[38;5;241m256\u001b[39m, output_size\u001b[38;5;241m=\u001b[39m\u001b[38;5;241m10\u001b[39m)\n\u001b[0;32m----> 3\u001b[0m \u001b[38;5;28;01mfor\u001b[39;00m images, labels \u001b[38;5;129;01min\u001b[39;00m train_loader:\n\u001b[1;32m      4\u001b[0m     \u001b[38;5;28mprint\u001b[39m(images, labels)\n\u001b[1;32m      5\u001b[0m   \u001b[38;5;66;03m# model.train()\u001b[39;00m\n\u001b[1;32m      6\u001b[0m   \u001b[38;5;66;03m# outputs = model(images)\u001b[39;00m\n",
      "\u001b[0;31mValueError\u001b[0m: too many values to unpack (expected 2)"
     ]
    }
   ],
   "source": [
    "model = CNN(hidden1_size=256, hidden_size2=256, output_size=10)\n",
    "\n",
    "for images, labels in train_loader:\n",
    "  print(images, labels)\n",
    "  # model.train()\n",
    "  # outputs = model(images)"
   ]
  }
 ],
 "metadata": {
  "kernelspec": {
   "display_name": "torch_env",
   "language": "python",
   "name": "python3"
  },
  "language_info": {
   "codemirror_mode": {
    "name": "ipython",
    "version": 3
   },
   "file_extension": ".py",
   "mimetype": "text/x-python",
   "name": "python",
   "nbconvert_exporter": "python",
   "pygments_lexer": "ipython3",
   "version": "3.10.18"
  }
 },
 "nbformat": 4,
 "nbformat_minor": 5
}
